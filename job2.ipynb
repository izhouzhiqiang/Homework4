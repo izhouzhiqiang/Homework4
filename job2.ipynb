{
 "cells": [
  {
   "cell_type": "code",
   "execution_count": 6,
   "metadata": {},
   "outputs": [],
   "source": [
    "import requests\n",
    "import json\n",
    "\n",
    "dev_desc = \"你是一个产品经理，现在你主要负责的内容是商业超市管理系统。你现在需要做一些需求设计相关的任务,并且后续的格式以严格格式的json返回\"\n",
    "prompt = \"帮我生成用户故事，用户故事包含对于不同群体的需要，role代表用户角色，goal代表用户需要达成的目标，value代表用户目标实现带来的价值\"\n"
   ]
  },
  {
   "cell_type": "code",
   "execution_count": 8,
   "metadata": {},
   "outputs": [
    {
     "name": "stdout",
     "output_type": "stream",
     "text": [
      "```json\n",
      "[\n",
      "    {\n",
      "        \"role\": \"超市经理\",\n",
      "        \"goal\": \"管理库存并确保商品及时补货\",\n",
      "        \"value\": \"防止缺货现象，提升顾客满意度和销售额\"\n",
      "    },\n",
      "    {\n",
      "        \"role\": \"采购专员\",\n",
      "        \"goal\": \"跟踪供应商交货情况并优化采购流程\",\n",
      "        \"value\": \"降低采购成本，确保商品质量和稳定供应\"\n",
      "    },\n",
      "    {\n",
      "        \"role\": \"收银员\",\n",
      "        \"goal\": \"快速处理顾客结账，减少队列时间\",\n",
      "        \"value\": \"提高结账效率，增强顾客购物体验\"\n",
      "    },\n",
      "    {\n",
      "        \"role\": \"仓库管理员\",\n",
      "        \"goal\": \"记录和更新库存情况并优化存储布局\",\n",
      "        \"value\": \"减少库存管理的时间和错误率，提高工作效率\"\n",
      "    },\n",
      "    {\n",
      "        \"role\": \"顾客\",\n",
      "        \"goal\": \"快速找到并购买所需商品\",\n",
      "        \"value\": \"节省购物时间，并获得满意的购物体验\"\n",
      "    },\n",
      "    {\n",
      "        \"role\": \"营销专员\",\n",
      "        \"goal\": \"策划并执行促销活动以增加销售\",\n",
      "        \"value\": \"提升销量，增加超市的市场份额\"\n",
      "    }\n",
      "]\n",
      "```\n"
     ]
    }
   ],
   "source": [
    "from openai import OpenAI\n",
    "from openai.types.chat import ChatCompletion\n",
    "\n",
    "url=\"https://api.chatfire.cn/v1\"\n",
    "sk=\"sk-zO8exlBicZh7nJeZn5GuC5X9SPuVrZzXoGyOW0i9BFvN62ON\"\n",
    "\n",
    "client = OpenAI(base_url=url, api_key=sk)\n",
    "completion = client.chat.completions.create(\n",
    "    model=\"gpt-4o\",\n",
    "    messages=[\n",
    "        {\n",
    "            \"role\": \"developer\",\n",
    "            \"content\": dev_desc\n",
    "        },\n",
    "        {\n",
    "            \"role\": \"user\",\n",
    "            \"content\": prompt\n",
    "        }\n",
    "    ]\n",
    "    \n",
    ")\n",
    "\n",
    "print(completion.choices[0].message.content)\n",
    "\n"
   ]
  }
 ],
 "metadata": {
  "kernelspec": {
   "display_name": ".venv",
   "language": "python",
   "name": "python3"
  },
  "language_info": {
   "codemirror_mode": {
    "name": "ipython",
    "version": 3
   },
   "file_extension": ".py",
   "mimetype": "text/x-python",
   "name": "python",
   "nbconvert_exporter": "python",
   "pygments_lexer": "ipython3",
   "version": "3.10.12"
  }
 },
 "nbformat": 4,
 "nbformat_minor": 2
}
