{
 "cells": [
  {
   "cell_type": "code",
   "execution_count": 1,
   "metadata": {},
   "outputs": [],
   "source": [
    "config = {\n",
    "    \"base_url\": 'https://api.chatfire.cn/v1',\n",
    "    \"api_key\": 'sk-zO8exlBicZh7nJeZn5GuC5X9SPuVrZzXoGyOW0i9BFvN62ON'\n",
    "}\n",
    "import os\n",
    "os.environ[\"OPENAI_API_KEY\"] = config['api_key']  # 替换成你的真实密钥\n",
    "os.environ[\"OPENAI_BASE_URL\"] = config['base_url']\n"
   ]
  },
  {
   "cell_type": "code",
   "execution_count": 2,
   "metadata": {},
   "outputs": [],
   "source": [
    "from pydantic import BaseModel\n",
    "import agents\n",
    "from typing import List"
   ]
  },
  {
   "cell_type": "code",
   "execution_count": 4,
   "metadata": {},
   "outputs": [],
   "source": [
    "class UserStory(BaseModel):\n",
    "    role: str\n",
    "    goal: str\n",
    "    value: str\n",
    "\n",
    "class StoryCollection(BaseModel):\n",
    "    items: List[UserStory]\n",
    "\n",
    "agent = agents.Agent(\n",
    "    name=\"User Story Generator\",\n",
    "    instructions=\"You are a project manager for a supermarket management system, and you need to analyze and generate standard user stories based on actual scenarios.\",\n",
    "    output_type=StoryCollection,\n",
    "    model=\"gpt-4o\",\n",
    ")\n",
    "\n"
   ]
  },
  {
   "cell_type": "code",
   "execution_count": 6,
   "metadata": {},
   "outputs": [
    {
     "ename": "OpenAIError",
     "evalue": "The api_key client option must be set either by passing api_key to the client or by setting the OPENAI_API_KEY environment variable",
     "output_type": "error",
     "traceback": [
      "\u001b[0;31m---------------------------------------------------------------------------\u001b[0m",
      "\u001b[0;31mOpenAIError\u001b[0m                               Traceback (most recent call last)",
      "\u001b[1;32m/home/heizi/workspace/Homework4/job3.ipynb 单元格 4\u001b[0m line \u001b[0;36m1\n\u001b[1;32m      <a href='vscode-notebook-cell://ssh-remote%2B47.96.112.118/home/heizi/workspace/Homework4/job3.ipynb#W1sdnNjb2RlLXJlbW90ZQ%3D%3D?line=8'>9</a>\u001b[0m \u001b[39mimport\u001b[39;00m\u001b[39m \u001b[39m\u001b[39masyncio\u001b[39;00m\n\u001b[1;32m     <a href='vscode-notebook-cell://ssh-remote%2B47.96.112.118/home/heizi/workspace/Homework4/job3.ipynb#W1sdnNjb2RlLXJlbW90ZQ%3D%3D?line=9'>10</a>\u001b[0m \u001b[39m# asyncio.run(main())  # 使用正确的asyncio运行方式\u001b[39;00m\n\u001b[0;32m---> <a href='vscode-notebook-cell://ssh-remote%2B47.96.112.118/home/heizi/workspace/Homework4/job3.ipynb#W1sdnNjb2RlLXJlbW90ZQ%3D%3D?line=10'>11</a>\u001b[0m \u001b[39mawait\u001b[39;00m main()  \u001b[39m# 使用正确的asyncio运行方式\u001b[39;00m\n",
      "\u001b[1;32m/home/heizi/workspace/Homework4/job3.ipynb 单元格 4\u001b[0m line \u001b[0;36m2\n\u001b[1;32m      <a href='vscode-notebook-cell://ssh-remote%2B47.96.112.118/home/heizi/workspace/Homework4/job3.ipynb#W1sdnNjb2RlLXJlbW90ZQ%3D%3D?line=0'>1</a>\u001b[0m \u001b[39masync\u001b[39;00m \u001b[39mdef\u001b[39;00m\u001b[39m \u001b[39m\u001b[39mmain\u001b[39m():\n\u001b[0;32m----> <a href='vscode-notebook-cell://ssh-remote%2B47.96.112.118/home/heizi/workspace/Homework4/job3.ipynb#W1sdnNjb2RlLXJlbW90ZQ%3D%3D?line=1'>2</a>\u001b[0m     result \u001b[39m=\u001b[39m \u001b[39mawait\u001b[39;00m agents\u001b[39m.\u001b[39mRunner\u001b[39m.\u001b[39mrun(\n\u001b[1;32m      <a href='vscode-notebook-cell://ssh-remote%2B47.96.112.118/home/heizi/workspace/Homework4/job3.ipynb#W1sdnNjb2RlLXJlbW90ZQ%3D%3D?line=2'>3</a>\u001b[0m         starting_agent\u001b[39m=\u001b[39magent,\n\u001b[1;32m      <a href='vscode-notebook-cell://ssh-remote%2B47.96.112.118/home/heizi/workspace/Homework4/job3.ipynb#W1sdnNjb2RlLXJlbW90ZQ%3D%3D?line=3'>4</a>\u001b[0m         \u001b[39minput\u001b[39m\u001b[39m=\u001b[39m\u001b[39m\"\u001b[39m\u001b[39mgenerate many user storys\u001b[39m\u001b[39m\"\u001b[39m,\n\u001b[1;32m      <a href='vscode-notebook-cell://ssh-remote%2B47.96.112.118/home/heizi/workspace/Homework4/job3.ipynb#W1sdnNjb2RlLXJlbW90ZQ%3D%3D?line=4'>5</a>\u001b[0m     )\n\u001b[1;32m      <a href='vscode-notebook-cell://ssh-remote%2B47.96.112.118/home/heizi/workspace/Homework4/job3.ipynb#W1sdnNjb2RlLXJlbW90ZQ%3D%3D?line=5'>6</a>\u001b[0m     \u001b[39mprint\u001b[39m(result\u001b[39m.\u001b[39mfinal_output)\n",
      "File \u001b[0;32m~/workspace/Homework4/.venv/lib/python3.10/site-packages/agents/run.py:199\u001b[0m, in \u001b[0;36mRunner.run\u001b[0;34m(cls, starting_agent, input, context, max_turns, hooks, run_config, previous_response_id)\u001b[0m\n\u001b[1;32m    172\u001b[0m \u001b[39m\u001b[39m\u001b[39m\"\"\"Run a workflow starting at the given agent. The agent will run in a loop until a final\u001b[39;00m\n\u001b[1;32m    173\u001b[0m \u001b[39moutput is generated. The loop runs like so:\u001b[39;00m\n\u001b[1;32m    174\u001b[0m \u001b[39m1. The agent is invoked with the given input.\u001b[39;00m\n\u001b[0;32m   (...)\u001b[0m\n\u001b[1;32m    196\u001b[0m \u001b[39m    agent. Agents may perform handoffs, so we don't know the specific type of the output.\u001b[39;00m\n\u001b[1;32m    197\u001b[0m \u001b[39m\"\"\"\u001b[39;00m\n\u001b[1;32m    198\u001b[0m runner \u001b[39m=\u001b[39m DEFAULT_AGENT_RUNNER\n\u001b[0;32m--> 199\u001b[0m \u001b[39mreturn\u001b[39;00m \u001b[39mawait\u001b[39;00m runner\u001b[39m.\u001b[39mrun(\n\u001b[1;32m    200\u001b[0m     starting_agent,\n\u001b[1;32m    201\u001b[0m     \u001b[39minput\u001b[39m,\n\u001b[1;32m    202\u001b[0m     context\u001b[39m=\u001b[39mcontext,\n\u001b[1;32m    203\u001b[0m     max_turns\u001b[39m=\u001b[39mmax_turns,\n\u001b[1;32m    204\u001b[0m     hooks\u001b[39m=\u001b[39mhooks,\n\u001b[1;32m    205\u001b[0m     run_config\u001b[39m=\u001b[39mrun_config,\n\u001b[1;32m    206\u001b[0m     previous_response_id\u001b[39m=\u001b[39mprevious_response_id,\n\u001b[1;32m    207\u001b[0m )\n",
      "File \u001b[0;32m~/workspace/Homework4/.venv/lib/python3.10/site-packages/agents/run.py:395\u001b[0m, in \u001b[0;36mAgentRunner.run\u001b[0;34m(self, starting_agent, input, **kwargs)\u001b[0m\n\u001b[1;32m    390\u001b[0m logger\u001b[39m.\u001b[39mdebug(\n\u001b[1;32m    391\u001b[0m     \u001b[39mf\u001b[39m\u001b[39m\"\u001b[39m\u001b[39mRunning agent \u001b[39m\u001b[39m{\u001b[39;00mcurrent_agent\u001b[39m.\u001b[39mname\u001b[39m}\u001b[39;00m\u001b[39m (turn \u001b[39m\u001b[39m{\u001b[39;00mcurrent_turn\u001b[39m}\u001b[39;00m\u001b[39m)\u001b[39m\u001b[39m\"\u001b[39m,\n\u001b[1;32m    392\u001b[0m )\n\u001b[1;32m    394\u001b[0m \u001b[39mif\u001b[39;00m current_turn \u001b[39m==\u001b[39m \u001b[39m1\u001b[39m:\n\u001b[0;32m--> 395\u001b[0m     input_guardrail_results, turn_result \u001b[39m=\u001b[39m \u001b[39mawait\u001b[39;00m asyncio\u001b[39m.\u001b[39mgather(\n\u001b[1;32m    396\u001b[0m         \u001b[39mself\u001b[39m\u001b[39m.\u001b[39m_run_input_guardrails(\n\u001b[1;32m    397\u001b[0m             starting_agent,\n\u001b[1;32m    398\u001b[0m             starting_agent\u001b[39m.\u001b[39minput_guardrails\n\u001b[1;32m    399\u001b[0m             \u001b[39m+\u001b[39m (run_config\u001b[39m.\u001b[39minput_guardrails \u001b[39mor\u001b[39;00m []),\n\u001b[1;32m    400\u001b[0m             copy\u001b[39m.\u001b[39mdeepcopy(\u001b[39minput\u001b[39m),\n\u001b[1;32m    401\u001b[0m             context_wrapper,\n\u001b[1;32m    402\u001b[0m         ),\n\u001b[1;32m    403\u001b[0m         \u001b[39mself\u001b[39m\u001b[39m.\u001b[39m_run_single_turn(\n\u001b[1;32m    404\u001b[0m             agent\u001b[39m=\u001b[39mcurrent_agent,\n\u001b[1;32m    405\u001b[0m             all_tools\u001b[39m=\u001b[39mall_tools,\n\u001b[1;32m    406\u001b[0m             original_input\u001b[39m=\u001b[39moriginal_input,\n\u001b[1;32m    407\u001b[0m             generated_items\u001b[39m=\u001b[39mgenerated_items,\n\u001b[1;32m    408\u001b[0m             hooks\u001b[39m=\u001b[39mhooks,\n\u001b[1;32m    409\u001b[0m             context_wrapper\u001b[39m=\u001b[39mcontext_wrapper,\n\u001b[1;32m    410\u001b[0m             run_config\u001b[39m=\u001b[39mrun_config,\n\u001b[1;32m    411\u001b[0m             should_run_agent_start_hooks\u001b[39m=\u001b[39mshould_run_agent_start_hooks,\n\u001b[1;32m    412\u001b[0m             tool_use_tracker\u001b[39m=\u001b[39mtool_use_tracker,\n\u001b[1;32m    413\u001b[0m             previous_response_id\u001b[39m=\u001b[39mprevious_response_id,\n\u001b[1;32m    414\u001b[0m         ),\n\u001b[1;32m    415\u001b[0m     )\n\u001b[1;32m    416\u001b[0m \u001b[39melse\u001b[39;00m:\n\u001b[1;32m    417\u001b[0m     turn_result \u001b[39m=\u001b[39m \u001b[39mawait\u001b[39;00m \u001b[39mself\u001b[39m\u001b[39m.\u001b[39m_run_single_turn(\n\u001b[1;32m    418\u001b[0m         agent\u001b[39m=\u001b[39mcurrent_agent,\n\u001b[1;32m    419\u001b[0m         all_tools\u001b[39m=\u001b[39mall_tools,\n\u001b[0;32m   (...)\u001b[0m\n\u001b[1;32m    427\u001b[0m         previous_response_id\u001b[39m=\u001b[39mprevious_response_id,\n\u001b[1;32m    428\u001b[0m     )\n",
      "File \u001b[0;32m~/workspace/Homework4/.venv/lib/python3.10/site-packages/agents/run.py:905\u001b[0m, in \u001b[0;36mAgentRunner._run_single_turn\u001b[0;34m(cls, agent, all_tools, original_input, generated_items, hooks, context_wrapper, run_config, should_run_agent_start_hooks, tool_use_tracker, previous_response_id)\u001b[0m\n\u001b[1;32m    902\u001b[0m \u001b[39minput\u001b[39m \u001b[39m=\u001b[39m ItemHelpers\u001b[39m.\u001b[39minput_to_new_input_list(original_input)\n\u001b[1;32m    903\u001b[0m \u001b[39minput\u001b[39m\u001b[39m.\u001b[39mextend([generated_item\u001b[39m.\u001b[39mto_input_item() \u001b[39mfor\u001b[39;00m generated_item \u001b[39min\u001b[39;00m generated_items])\n\u001b[0;32m--> 905\u001b[0m new_response \u001b[39m=\u001b[39m \u001b[39mawait\u001b[39;00m \u001b[39mcls\u001b[39m\u001b[39m.\u001b[39m_get_new_response(\n\u001b[1;32m    906\u001b[0m     agent,\n\u001b[1;32m    907\u001b[0m     system_prompt,\n\u001b[1;32m    908\u001b[0m     \u001b[39minput\u001b[39m,\n\u001b[1;32m    909\u001b[0m     output_schema,\n\u001b[1;32m    910\u001b[0m     all_tools,\n\u001b[1;32m    911\u001b[0m     handoffs,\n\u001b[1;32m    912\u001b[0m     context_wrapper,\n\u001b[1;32m    913\u001b[0m     run_config,\n\u001b[1;32m    914\u001b[0m     tool_use_tracker,\n\u001b[1;32m    915\u001b[0m     previous_response_id,\n\u001b[1;32m    916\u001b[0m     prompt_config,\n\u001b[1;32m    917\u001b[0m )\n\u001b[1;32m    919\u001b[0m \u001b[39mreturn\u001b[39;00m \u001b[39mawait\u001b[39;00m \u001b[39mcls\u001b[39m\u001b[39m.\u001b[39m_get_single_step_result_from_response(\n\u001b[1;32m    920\u001b[0m     agent\u001b[39m=\u001b[39magent,\n\u001b[1;32m    921\u001b[0m     original_input\u001b[39m=\u001b[39moriginal_input,\n\u001b[0;32m   (...)\u001b[0m\n\u001b[1;32m    930\u001b[0m     tool_use_tracker\u001b[39m=\u001b[39mtool_use_tracker,\n\u001b[1;32m    931\u001b[0m )\n",
      "File \u001b[0;32m~/workspace/Homework4/.venv/lib/python3.10/site-packages/agents/run.py:1062\u001b[0m, in \u001b[0;36mAgentRunner._get_new_response\u001b[0;34m(cls, agent, system_prompt, input, output_schema, all_tools, handoffs, context_wrapper, run_config, tool_use_tracker, previous_response_id, prompt_config)\u001b[0m\n\u001b[1;32m   1047\u001b[0m \u001b[39m@classmethod\u001b[39m\n\u001b[1;32m   1048\u001b[0m \u001b[39masync\u001b[39;00m \u001b[39mdef\u001b[39;00m\u001b[39m \u001b[39m\u001b[39m_get_new_response\u001b[39m(\n\u001b[1;32m   1049\u001b[0m     \u001b[39mcls\u001b[39m,\n\u001b[0;32m   (...)\u001b[0m\n\u001b[1;32m   1060\u001b[0m     prompt_config: ResponsePromptParam \u001b[39m|\u001b[39m \u001b[39mNone\u001b[39;00m,\n\u001b[1;32m   1061\u001b[0m ) \u001b[39m-\u001b[39m\u001b[39m>\u001b[39m ModelResponse:\n\u001b[0;32m-> 1062\u001b[0m     model \u001b[39m=\u001b[39m \u001b[39mcls\u001b[39;49m\u001b[39m.\u001b[39;49m_get_model(agent, run_config)\n\u001b[1;32m   1063\u001b[0m     model_settings \u001b[39m=\u001b[39m agent\u001b[39m.\u001b[39mmodel_settings\u001b[39m.\u001b[39mresolve(run_config\u001b[39m.\u001b[39mmodel_settings)\n\u001b[1;32m   1064\u001b[0m     model_settings \u001b[39m=\u001b[39m RunImpl\u001b[39m.\u001b[39mmaybe_reset_tool_choice(agent, tool_use_tracker, model_settings)\n",
      "File \u001b[0;32m~/workspace/Homework4/.venv/lib/python3.10/site-packages/agents/run.py:1118\u001b[0m, in \u001b[0;36mAgentRunner._get_model\u001b[0;34m(cls, agent, run_config)\u001b[0m\n\u001b[1;32m   1115\u001b[0m \u001b[39melif\u001b[39;00m \u001b[39misinstance\u001b[39m(agent\u001b[39m.\u001b[39mmodel, Model):\n\u001b[1;32m   1116\u001b[0m     \u001b[39mreturn\u001b[39;00m agent\u001b[39m.\u001b[39mmodel\n\u001b[0;32m-> 1118\u001b[0m \u001b[39mreturn\u001b[39;00m run_config\u001b[39m.\u001b[39;49mmodel_provider\u001b[39m.\u001b[39;49mget_model(agent\u001b[39m.\u001b[39;49mmodel)\n",
      "File \u001b[0;32m~/workspace/Homework4/.venv/lib/python3.10/site-packages/agents/models/multi_provider.py:144\u001b[0m, in \u001b[0;36mMultiProvider.get_model\u001b[0;34m(self, model_name)\u001b[0m\n\u001b[1;32m    142\u001b[0m     \u001b[39mreturn\u001b[39;00m provider\u001b[39m.\u001b[39mget_model(model_name)\n\u001b[1;32m    143\u001b[0m \u001b[39melse\u001b[39;00m:\n\u001b[0;32m--> 144\u001b[0m     \u001b[39mreturn\u001b[39;00m \u001b[39mself\u001b[39;49m\u001b[39m.\u001b[39;49m_get_fallback_provider(prefix)\u001b[39m.\u001b[39;49mget_model(model_name)\n",
      "File \u001b[0;32m~/workspace/Homework4/.venv/lib/python3.10/site-packages/agents/models/openai_provider.py:85\u001b[0m, in \u001b[0;36mOpenAIProvider.get_model\u001b[0;34m(self, model_name)\u001b[0m\n\u001b[1;32m     82\u001b[0m \u001b[39mif\u001b[39;00m model_name \u001b[39mis\u001b[39;00m \u001b[39mNone\u001b[39;00m:\n\u001b[1;32m     83\u001b[0m     model_name \u001b[39m=\u001b[39m DEFAULT_MODEL\n\u001b[0;32m---> 85\u001b[0m client \u001b[39m=\u001b[39m \u001b[39mself\u001b[39;49m\u001b[39m.\u001b[39;49m_get_client()\n\u001b[1;32m     87\u001b[0m \u001b[39mreturn\u001b[39;00m (\n\u001b[1;32m     88\u001b[0m     OpenAIResponsesModel(model\u001b[39m=\u001b[39mmodel_name, openai_client\u001b[39m=\u001b[39mclient)\n\u001b[1;32m     89\u001b[0m     \u001b[39mif\u001b[39;00m \u001b[39mself\u001b[39m\u001b[39m.\u001b[39m_use_responses\n\u001b[1;32m     90\u001b[0m     \u001b[39melse\u001b[39;00m OpenAIChatCompletionsModel(model\u001b[39m=\u001b[39mmodel_name, openai_client\u001b[39m=\u001b[39mclient)\n\u001b[1;32m     91\u001b[0m )\n",
      "File \u001b[0;32m~/workspace/Homework4/.venv/lib/python3.10/site-packages/agents/models/openai_provider.py:71\u001b[0m, in \u001b[0;36mOpenAIProvider._get_client\u001b[0;34m(self)\u001b[0m\n\u001b[1;32m     69\u001b[0m \u001b[39mdef\u001b[39;00m\u001b[39m \u001b[39m\u001b[39m_get_client\u001b[39m(\u001b[39mself\u001b[39m) \u001b[39m-\u001b[39m\u001b[39m>\u001b[39m AsyncOpenAI:\n\u001b[1;32m     70\u001b[0m     \u001b[39mif\u001b[39;00m \u001b[39mself\u001b[39m\u001b[39m.\u001b[39m_client \u001b[39mis\u001b[39;00m \u001b[39mNone\u001b[39;00m:\n\u001b[0;32m---> 71\u001b[0m         \u001b[39mself\u001b[39m\u001b[39m.\u001b[39m_client \u001b[39m=\u001b[39m _openai_shared\u001b[39m.\u001b[39mget_default_openai_client() \u001b[39mor\u001b[39;00m AsyncOpenAI(\n\u001b[1;32m     72\u001b[0m             api_key\u001b[39m=\u001b[39;49m\u001b[39mself\u001b[39;49m\u001b[39m.\u001b[39;49m_stored_api_key \u001b[39mor\u001b[39;49;00m _openai_shared\u001b[39m.\u001b[39;49mget_default_openai_key(),\n\u001b[1;32m     73\u001b[0m             base_url\u001b[39m=\u001b[39;49m\u001b[39mself\u001b[39;49m\u001b[39m.\u001b[39;49m_stored_base_url,\n\u001b[1;32m     74\u001b[0m             organization\u001b[39m=\u001b[39;49m\u001b[39mself\u001b[39;49m\u001b[39m.\u001b[39;49m_stored_organization,\n\u001b[1;32m     75\u001b[0m             project\u001b[39m=\u001b[39;49m\u001b[39mself\u001b[39;49m\u001b[39m.\u001b[39;49m_stored_project,\n\u001b[1;32m     76\u001b[0m             http_client\u001b[39m=\u001b[39;49mshared_http_client(),\n\u001b[1;32m     77\u001b[0m         )\n\u001b[1;32m     79\u001b[0m     \u001b[39mreturn\u001b[39;00m \u001b[39mself\u001b[39m\u001b[39m.\u001b[39m_client\n",
      "File \u001b[0;32m~/workspace/Homework4/.venv/lib/python3.10/site-packages/openai/_client.py:427\u001b[0m, in \u001b[0;36mAsyncOpenAI.__init__\u001b[0;34m(self, api_key, organization, project, base_url, websocket_base_url, timeout, max_retries, default_headers, default_query, http_client, _strict_response_validation)\u001b[0m\n\u001b[1;32m    425\u001b[0m     api_key \u001b[39m=\u001b[39m os\u001b[39m.\u001b[39menviron\u001b[39m.\u001b[39mget(\u001b[39m\"\u001b[39m\u001b[39mOPENAI_API_KEY\u001b[39m\u001b[39m\"\u001b[39m)\n\u001b[1;32m    426\u001b[0m \u001b[39mif\u001b[39;00m api_key \u001b[39mis\u001b[39;00m \u001b[39mNone\u001b[39;00m:\n\u001b[0;32m--> 427\u001b[0m     \u001b[39mraise\u001b[39;00m OpenAIError(\n\u001b[1;32m    428\u001b[0m         \u001b[39m\"\u001b[39m\u001b[39mThe api_key client option must be set either by passing api_key to the client or by setting the OPENAI_API_KEY environment variable\u001b[39m\u001b[39m\"\u001b[39m\n\u001b[1;32m    429\u001b[0m     )\n\u001b[1;32m    430\u001b[0m \u001b[39mself\u001b[39m\u001b[39m.\u001b[39mapi_key \u001b[39m=\u001b[39m api_key\n\u001b[1;32m    432\u001b[0m \u001b[39mif\u001b[39;00m organization \u001b[39mis\u001b[39;00m \u001b[39mNone\u001b[39;00m:\n",
      "\u001b[0;31mOpenAIError\u001b[0m: The api_key client option must be set either by passing api_key to the client or by setting the OPENAI_API_KEY environment variable"
     ]
    },
    {
     "name": "stderr",
     "output_type": "stream",
     "text": [
      "OPENAI_API_KEY is not set, skipping trace export\n"
     ]
    }
   ],
   "source": [
    "async def main():\n",
    "    result = await agents.Runner.run(\n",
    "        starting_agent=agent,\n",
    "        input=\"generate many user storys\",\n",
    "    )\n",
    "    print(result.final_output)\n",
    "\n",
    "if __name__ == \"__main__\":\n",
    "    import asyncio\n",
    "    # asyncio.run(main())  # 使用正确的asyncio运行方式\n",
    "    await main()  # 使用正确的asyncio运行方式\n",
    "    "
   ]
  }
 ],
 "metadata": {
  "kernelspec": {
   "display_name": ".venv",
   "language": "python",
   "name": "python3"
  },
  "language_info": {
   "codemirror_mode": {
    "name": "ipython",
    "version": 3
   },
   "file_extension": ".py",
   "mimetype": "text/x-python",
   "name": "python",
   "nbconvert_exporter": "python",
   "pygments_lexer": "ipython3",
   "version": "3.10.12"
  }
 },
 "nbformat": 4,
 "nbformat_minor": 2
}
