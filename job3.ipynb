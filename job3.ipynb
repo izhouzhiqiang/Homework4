{
 "cells": [
  {
   "cell_type": "code",
   "execution_count": 6,
   "metadata": {},
   "outputs": [],
   "source": [
    "import requests\n",
    "import json\n",
    "\n",
    "dev_desc = \"你是一个产品经理，现在你主要负责的内容是商业超市管理系统。你现在需要做一些需求设计相关的任务,并且后续的格式以严格格式的json返回\"\n",
    "prompt = \"帮我生成用户故事，用户故事包含对于不同群体的需要，role代表用户角色，goal代表用户需要达成的目标，value代表用户目标实现带来的价值\"\n"
   ]
  },
  {
   "cell_type": "code",
   "execution_count": 1,
   "metadata": {},
   "outputs": [],
   "source": [
    "import asyncio\n",
    "from agents import Agent"
   ]
  }
 ],
 "metadata": {
  "kernelspec": {
   "display_name": ".venv",
   "language": "python",
   "name": "python3"
  },
  "language_info": {
   "codemirror_mode": {
    "name": "ipython",
    "version": 3
   },
   "file_extension": ".py",
   "mimetype": "text/x-python",
   "name": "python",
   "nbconvert_exporter": "python",
   "pygments_lexer": "ipython3",
   "version": "3.10.12"
  }
 },
 "nbformat": 4,
 "nbformat_minor": 2
}
